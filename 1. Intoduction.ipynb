{
 "cells": [
  {
   "cell_type": "markdown",
   "id": "456fe35e",
   "metadata": {},
   "source": [
    "## Fibonacci"
   ]
  },
  {
   "cell_type": "code",
   "execution_count": 61,
   "id": "9ae106c0",
   "metadata": {
    "ExecuteTime": {
     "end_time": "2022-07-14T17:25:44.434801Z",
     "start_time": "2022-07-14T17:25:44.431207Z"
    }
   },
   "outputs": [],
   "source": [
    "def fib_cycle(n):\n",
    "    f = list(range(n + 1))\n",
    "    \n",
    "    for i in range(2, n + 1):\n",
    "        f[i] = f[i - 1] + f[i - 2]\n",
    "        \n",
    "    return f[n]"
   ]
  },
  {
   "cell_type": "code",
   "execution_count": 72,
   "id": "b311c37f",
   "metadata": {
    "ExecuteTime": {
     "end_time": "2022-07-14T17:34:59.696728Z",
     "start_time": "2022-07-14T17:34:59.692824Z"
    }
   },
   "outputs": [],
   "source": [
    "def fib_digit(n):\n",
    "    a = 0\n",
    "    b = 1\n",
    "    for i in range(2, n+1):\n",
    "        a, b = b % 10, (b + a) % 10\n",
    "        \n",
    "    return b"
   ]
  },
  {
   "cell_type": "code",
   "execution_count": 80,
   "id": "696328a0",
   "metadata": {
    "ExecuteTime": {
     "end_time": "2022-07-14T17:36:59.354305Z",
     "start_time": "2022-07-14T17:36:59.351377Z"
    }
   },
   "outputs": [],
   "source": [
    "def fib_mod(n, m):\n",
    "    a = 0\n",
    "    b = 1\n",
    "    for i in range(2, n+1):\n",
    "        a, b = b % m, (b + a) % m\n",
    "        \n",
    "    return b"
   ]
  },
  {
   "cell_type": "markdown",
   "id": "04c1386e",
   "metadata": {},
   "source": [
    "## GCD"
   ]
  },
  {
   "cell_type": "code",
   "execution_count": 81,
   "id": "98784bcc",
   "metadata": {
    "ExecuteTime": {
     "end_time": "2022-07-14T17:57:27.823875Z",
     "start_time": "2022-07-14T17:57:27.819901Z"
    }
   },
   "outputs": [],
   "source": [
    "def gcd(a, b):\n",
    "    \n",
    "    if a == b:\n",
    "        return a\n",
    "    elif a == 0:\n",
    "        return b\n",
    "    elif b == 0:\n",
    "        return a\n",
    "    \n",
    "    if b > a:\n",
    "        return gcd(a, b % a)\n",
    "    else:\n",
    "        return gcd(a % b, b)"
   ]
  },
  {
   "cell_type": "code",
   "execution_count": 83,
   "id": "c0072976",
   "metadata": {
    "ExecuteTime": {
     "end_time": "2022-07-14T17:57:49.194093Z",
     "start_time": "2022-07-14T17:57:49.191036Z"
    }
   },
   "outputs": [
    {
     "data": {
      "text/plain": [
       "4"
      ]
     },
     "execution_count": 83,
     "metadata": {},
     "output_type": "execute_result"
    }
   ],
   "source": [
    "gcd(14159572, 63967072)"
   ]
  },
  {
   "cell_type": "code",
   "execution_count": null,
   "id": "d2782443",
   "metadata": {},
   "outputs": [],
   "source": []
  }
 ],
 "metadata": {
  "kernelspec": {
   "display_name": "algos",
   "language": "python",
   "name": "algos"
  },
  "language_info": {
   "codemirror_mode": {
    "name": "ipython",
    "version": 3
   },
   "file_extension": ".py",
   "mimetype": "text/x-python",
   "name": "python",
   "nbconvert_exporter": "python",
   "pygments_lexer": "ipython3",
   "version": "3.9.5"
  }
 },
 "nbformat": 4,
 "nbformat_minor": 5
}
